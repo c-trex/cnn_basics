{
 "cells": [
  {
   "cell_type": "code",
   "execution_count": 9,
   "metadata": {},
   "outputs": [],
   "source": [
    "from cnn_utils import confusion_plot\n",
    "\n",
    "import os\n",
    "import sys\n",
    "import numpy as np\n",
    "import pandas as pd\n",
    "import matplotlib.pyplot as plt\n",
    "import tensorflow as tf\n",
    "from tensorflow import keras\n",
    "from keras_preprocessing.image import ImageDataGenerator\n",
    "from tensorflow.keras.callbacks import CSVLogger\n",
    "from tensorflow.keras.models import Model\n",
    "from tensorflow.keras.layers import Dense, Activation, Input, Conv2D, MaxPooling2D, Flatten, Dropout"
   ]
  },
  {
   "cell_type": "code",
   "execution_count": 6,
   "metadata": {},
   "outputs": [
    {
     "name": "stdout",
     "output_type": "stream",
     "text": [
      "Found 15171 validated image filenames belonging to 2 classes.\n",
      "Found 4741 validated image filenames belonging to 2 classes.\n",
      "Found 3793 validated image filenames belonging to 2 classes.\n"
     ]
    }
   ],
   "source": [
    "# Reading the cvs file:\n",
    "traindata = pd.read_csv('train.csv')\n",
    "testdata = pd.read_csv('test.csv')\n",
    "valdata = pd.read_csv('val.csv')\n",
    "\n",
    "# loading images from folder directory\n",
    "img_dir = os.path.join(os.getcwd(), 'archive')\n",
    "\n",
    "# class/label structure\n",
    "gender_dict = {0: 'male', 1: 'female'}\n",
    "\n",
    "# The data in the column where the label is located is not of string type and needs to be converted\n",
    "traindata['gender'] = traindata['gender'].astype(str)  \n",
    "testdata['gender'] = testdata['gender'].astype(str) \n",
    "valdata['gender'] = valdata['gender'].astype(str) \n",
    "\n",
    "datagen = ImageDataGenerator()\n",
    "# training set data generator\n",
    "train_gen = datagen.flow_from_dataframe(\n",
    "    dataframe=traindata,\n",
    "    directory='archive', # directory to image folder\n",
    "    x_col='img_name', # csvheader for image filenames\n",
    "    y_col='gender', # csvheader for labels\n",
    "    color_mode='rgb',\n",
    "    target_size=(40, 40), # input image size\n",
    "    batch_size=32,\n",
    "    seed=42,\n",
    "    shuffle=True,\n",
    "    class_mode='categorical') # raw: without converting y, categorical:, binary:\n",
    "\n",
    "# test set data generator\n",
    "test_gen = datagen.flow_from_dataframe(\n",
    "    dataframe=testdata,\n",
    "    directory='archive',\n",
    "    x_col='img_name',\n",
    "    y_col='gender',\n",
    "    color_mode='rgb',\n",
    "    target_size=(40, 40),\n",
    "    batch_size=32,\n",
    "    seed=42,\n",
    "    shuffle=False,\n",
    "    class_mode='categorical')\n",
    "\n",
    "# validation set data generator\n",
    "val_gen = datagen.flow_from_dataframe(\n",
    "    dataframe=valdata,\n",
    "    directory='archive',\n",
    "    x_col='img_name',\n",
    "    y_col='gender',\n",
    "    color_mode='rgb',\n",
    "    target_size=(40, 40),\n",
    "    batch_size=32,\n",
    "    seed=42,\n",
    "    shuffle=False,\n",
    "    class_mode='categorical')"
   ]
  },
  {
   "cell_type": "code",
   "execution_count": 3,
   "metadata": {},
   "outputs": [
    {
     "name": "stdout",
     "output_type": "stream",
     "text": [
      "Save logger file: training.log \n",
      "Model: \"functional_1\"\n",
      "_________________________________________________________________\n",
      "Layer (type)                 Output Shape              Param #   \n",
      "=================================================================\n",
      "input_1 (InputLayer)         [(None, 40, 40, 3)]       0         \n",
      "_________________________________________________________________\n",
      "conv2d (Conv2D)              (None, 38, 38, 32)        896       \n",
      "_________________________________________________________________\n",
      "conv2d_1 (Conv2D)            (None, 36, 36, 32)        9248      \n",
      "_________________________________________________________________\n",
      "max_pooling2d (MaxPooling2D) (None, 18, 18, 32)        0         \n",
      "_________________________________________________________________\n",
      "conv2d_2 (Conv2D)            (None, 16, 16, 32)        9248      \n",
      "_________________________________________________________________\n",
      "conv2d_3 (Conv2D)            (None, 14, 14, 32)        9248      \n",
      "_________________________________________________________________\n",
      "max_pooling2d_1 (MaxPooling2 (None, 7, 7, 32)          0         \n",
      "_________________________________________________________________\n",
      "flatten (Flatten)            (None, 1568)              0         \n",
      "_________________________________________________________________\n",
      "dense (Dense)                (None, 1000)              1569000   \n",
      "_________________________________________________________________\n",
      "dropout (Dropout)            (None, 1000)              0         \n",
      "_________________________________________________________________\n",
      "dense_1 (Dense)              (None, 500)               500500    \n",
      "_________________________________________________________________\n",
      "dropout_1 (Dropout)          (None, 500)               0         \n",
      "_________________________________________________________________\n",
      "dense_2 (Dense)              (None, 2)                 1002      \n",
      "=================================================================\n",
      "Total params: 2,099,142\n",
      "Trainable params: 2,099,142\n",
      "Non-trainable params: 0\n",
      "_________________________________________________________________\n",
      "None\n",
      "WARNING:tensorflow:From <ipython-input-3-f346f530c2c4>:64: Model.fit_generator (from tensorflow.python.keras.engine.training) is deprecated and will be removed in a future version.\n",
      "Instructions for updating:\n",
      "Please use Model.fit, which supports generators.\n",
      "Epoch 1/10\n",
      "474/474 [==============================] - 67s 141ms/step - loss: 0.7074 - accuracy: 0.7606 - val_loss: 0.3866 - val_accuracy: 0.8173\n",
      "Epoch 2/10\n",
      "474/474 [==============================] - 65s 137ms/step - loss: 0.3787 - accuracy: 0.8247 - val_loss: 0.3370 - val_accuracy: 0.8485\n",
      "Epoch 3/10\n",
      "474/474 [==============================] - 67s 140ms/step - loss: 0.3413 - accuracy: 0.8440 - val_loss: 0.3414 - val_accuracy: 0.8501\n",
      "Epoch 4/10\n",
      "474/474 [==============================] - 67s 140ms/step - loss: 0.3189 - accuracy: 0.8551 - val_loss: 0.3177 - val_accuracy: 0.8514\n",
      "Epoch 5/10\n",
      "474/474 [==============================] - 60s 126ms/step - loss: 0.3022 - accuracy: 0.8648 - val_loss: 0.3131 - val_accuracy: 0.8615\n",
      "Epoch 6/10\n",
      "474/474 [==============================] - 58s 122ms/step - loss: 0.2864 - accuracy: 0.8720 - val_loss: 0.3139 - val_accuracy: 0.8546\n",
      "Epoch 7/10\n",
      "474/474 [==============================] - 58s 122ms/step - loss: 0.2839 - accuracy: 0.8743 - val_loss: 0.3406 - val_accuracy: 0.8493\n",
      "Epoch 8/10\n",
      "474/474 [==============================] - 58s 122ms/step - loss: 0.2709 - accuracy: 0.8815 - val_loss: 0.3035 - val_accuracy: 0.8684\n",
      "Epoch 9/10\n",
      "474/474 [==============================] - 58s 122ms/step - loss: 0.2592 - accuracy: 0.8836 - val_loss: 0.3045 - val_accuracy: 0.8718\n",
      "Epoch 10/10\n",
      "474/474 [==============================] - 58s 122ms/step - loss: 0.2521 - accuracy: 0.8881 - val_loss: 0.2987 - val_accuracy: 0.8710\n",
      "Save trained model: model.h5 \n",
      "WARNING:tensorflow:From <ipython-input-3-f346f530c2c4>:85: Model.predict_generator (from tensorflow.python.keras.engine.training) is deprecated and will be removed in a future version.\n",
      "Instructions for updating:\n",
      "Please use Model.predict, which supports generators.\n",
      "149/149 [==============================] - 6s 41ms/step\n"
     ]
    }
   ],
   "source": [
    "def get_model():\n",
    "    \n",
    "    # config param\n",
    "    lr = 0.001\n",
    "    nb_filters = 32\n",
    "    kernel_size = (3, 3)\n",
    "    pool_size = (2, 2)\n",
    "    activ_func = 'relu'\n",
    "    drop = 0.3\n",
    "    \n",
    "    # input layer\n",
    "    input_layer = Input(shape=(40, 40, 3))\n",
    "    \n",
    "    # first convolution layer\n",
    "    x = Conv2D(filters=nb_filters,kernel_size=kernel_size,activation=activ_func)(input_layer)\n",
    "    x = Conv2D(filters=nb_filters,kernel_size=kernel_size,activation=activ_func)(x)\n",
    "    x = MaxPooling2D(pool_size)(x)\n",
    "    \n",
    "    # second convolution layer\n",
    "    x = Conv2D(filters=nb_filters,kernel_size=kernel_size,activation=activ_func)(x)\n",
    "    x = Conv2D(filters=nb_filters,kernel_size=kernel_size,activation=activ_func)(x)\n",
    "    x = MaxPooling2D(pool_size)(x)\n",
    "    \n",
    "    # fully connected layers\n",
    "    x = Flatten()(x)\n",
    "    x = Dense(1000,activation=activ_func)(x)\n",
    "    x = Dropout(drop)(x)\n",
    "    x = Dense(500,activation='relu')(x)\n",
    "    x = Dropout(drop)(x)\n",
    "    \n",
    "    # output: predictions\n",
    "    output = Dense(2, activation=\"softmax\")(x)\n",
    "    \n",
    "    # assemble model\n",
    "    CNN_model = Model(input_layer, output)\n",
    "    \n",
    "    # optimizer\n",
    "    optimizer = keras.optimizers.SGD(lr=lr,momentum=0.9)\n",
    "\n",
    "    # compile model\n",
    "    CNN_model.compile(loss=[\"categorical_crossentropy\"],optimizer='adam',metrics=[\"accuracy\"])\n",
    "    \n",
    "    return CNN_model\n",
    "\n",
    "# steps sizes\n",
    "STEP_SIZE_TRAIN=train_gen.n//train_gen.batch_size\n",
    "STEP_SIZE_VALID=val_gen.n//val_gen.batch_size\n",
    "STEP_SIZE_TEST=test_gen.n//test_gen.batch_size+1\n",
    "\n",
    "# train model on train set\n",
    "epochs = 10\n",
    "model = get_model()\n",
    "\n",
    "# save training output\n",
    "summary_file = 'summary.txt'\n",
    "logger_file = 'training.log'\n",
    "csv_logger = CSVLogger(logger_file)\n",
    "print('Save logger file: %s ' % logger_file)\n",
    "\n",
    "# model structure in summary\n",
    "print(model.summary())\n",
    "\n",
    "# train model \n",
    "history = model.fit_generator(generator=train_gen,\n",
    "                    steps_per_epoch=STEP_SIZE_TRAIN,\n",
    "                    validation_data=val_gen,\n",
    "                    validation_steps=STEP_SIZE_VALID,\n",
    "                    epochs=epochs,\n",
    "                    callbacks=[csv_logger])\n",
    "\n",
    "# get training metrices\n",
    "train_loss = history.history['loss']\n",
    "train_acc = history.history['accuracy']\n",
    "val_loss = history.history['val_loss']\n",
    "val_acc = history.history['val_accuracy']\n",
    "\n",
    "# Save model and weights\n",
    "model_file = 'model.h5'\n",
    "model_path = os.path.join(os.getcwd(), model_file)\n",
    "model.save(model_path)\n",
    "print('Save trained model: %s ' % model_file)\n",
    "\n",
    "# predict on test set\n",
    "y_true = test_gen.labels\n",
    "y_pred = model.predict_generator(test_gen, steps=STEP_SIZE_TEST, verbose=1)"
   ]
  },
  {
   "cell_type": "code",
   "execution_count": 4,
   "metadata": {},
   "outputs": [
    {
     "data": {
      "image/png": "[encoded data removed]",
      "text/plain": [
       "<Figure size 1080x360 with 2 Axes>"
      ]
     },
     "metadata": {
      "needs_background": "light"
     },
     "output_type": "display_data"
    }
   ],
   "source": [
    "# plot metrices\n",
    "f, axs = plt.subplots(1,2)\n",
    "\n",
    "# plot losses\n",
    "axs[0].plot(train_loss, color='r')\n",
    "axs[0].plot(val_loss, color='b')\n",
    "axs[0].set_xlabel(\"Epochs\")\n",
    "axs[0].set_ylabel(\"Loss\")\n",
    "axs[0].set_title('Train and Validation Loss')\n",
    "axs[0].legend(['train', 'val'])\n",
    "\n",
    "\n",
    "# plot accuracies\n",
    "axs[1].plot(train_acc, color='r')\n",
    "axs[1].plot(val_acc, color='b')\n",
    "axs[1].set_xlabel(\"Epochs\")\n",
    "axs[1].set_ylabel(\"Accuracy\")\n",
    "axs[1].set_title('Train and Validation Accuracy')\n",
    "axs[1].legend(['train', 'val'])\n",
    "\n",
    "f.set_size_inches(15,5)\n",
    "plt.show()"
   ]
  },
  {
   "cell_type": "code",
   "execution_count": 7,
   "metadata": {},
   "outputs": [
    {
     "name": "stdout",
     "output_type": "stream",
     "text": [
      "Confusion Matrix:\n",
      "[[2208  270]\n",
      " [ 350 1913]]\n"
     ]
    },
    {
     "data": {
      "image/png": "[encoded data removed]",
      "text/plain": [
       "<Figure size 432x288 with 2 Axes>"
      ]
     },
     "metadata": {
      "needs_background": "light"
     },
     "output_type": "display_data"
    }
   ],
   "source": [
    "# plot confusion matrix with total numbers\n",
    "classes = gender_dict.values()\n",
    "confusion_plot(y_true, y_pred, classes, normalized=False)\n",
    "plt.show()"
   ]
  },
  {
   "cell_type": "code",
   "execution_count": 8,
   "metadata": {},
   "outputs": [
    {
     "name": "stdout",
     "output_type": "stream",
     "text": [
      "Normalized Confusion Matrix:\n",
      "[[89.10411622 10.89588378]\n",
      " [15.46619532 84.53380468]]\n"
     ]
    },
    {
     "data": {
      "image/png": "[encoded data removed]",
      "text/plain": [
       "<Figure size 432x288 with 2 Axes>"
      ]
     },
     "metadata": {
      "needs_background": "light"
     },
     "output_type": "display_data"
    }
   ],
   "source": [
    "# plot normalized confusion matrix\n",
    "confusion_plot(y_true, y_pred, classes, normalized=True)\n",
    "plt.show()"
   ]
  },
  {
   "cell_type": "code",
   "execution_count": null,
   "metadata": {},
   "outputs": [],
   "source": []
  }
 ],
 "metadata": {
  "kernelspec": {
   "display_name": "Python 3",
   "language": "python",
   "name": "python3"
  },
  "language_info": {
   "codemirror_mode": {
    "name": "ipython",
    "version": 3
   },
   "file_extension": ".py",
   "mimetype": "text/x-python",
   "name": "python",
   "nbconvert_exporter": "python",
   "pygments_lexer": "ipython3",
   "version": "3.8.5"
  }
 },
 "nbformat": 4,
 "nbformat_minor": 4
}
